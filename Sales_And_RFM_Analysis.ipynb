{
  "nbformat": 4,
  "nbformat_minor": 5,
  "metadata": {
    "kernelspec": {
      "display_name": "Python 3",
      "language": "python",
      "name": "python3"
    },
    "language_info": {
      "codemirror_mode": {
        "name": "ipython",
        "version": 3
      },
      "file_extension": ".py",
      "mimetype": "text/x-python",
      "name": "python",
      "nbconvert_exporter": "python",
      "pygments_lexer": "ipython3",
      "version": "3.8.8"
    },
    "colab": {
      "name": "Sales_And_RFM_Analysis.ipynb",
      "provenance": [],
      "collapsed_sections": [],
      "include_colab_link": true
    }
  },
  "cells": [
    {
      "cell_type": "markdown",
      "metadata": {
        "id": "view-in-github",
        "colab_type": "text"
      },
      "source": [
        "<a href=\"https://colab.research.google.com/github/Duncan-Sembeguya/Duncan-Sembeguya/blob/main/Sales_And_RFM_Analysis.ipynb\" target=\"_parent\"><img src=\"https://colab.research.google.com/assets/colab-badge.svg\" alt=\"Open In Colab\"/></a>"
      ]
    },
    {
      "cell_type": "markdown",
      "metadata": {
        "id": "752635ea"
      },
      "source": [
        "# SALES ANALYSIS \n",
        "Sample Sales Data, Order Info, Sales, Customer, Shipping, etc., Used for Segmentation, Customer Analytics, Clustering and More. Inspired for retail analytics. This was originally used for Pentaho DI Kettle, But I found the set could be useful for Sales Simulation training.\n",
        "Originally Written by María Carina Roldán, Pentaho Community Member, BI consultant (Assert Solutions), Argentina. This work is licensed under the Creative Commons Attribution-Noncommercial-Share Alike 3.0 Unported License. Modified by Gus Segura June 2014.\n"
      ],
      "id": "752635ea"
    },
    {
      "cell_type": "markdown",
      "metadata": {
        "id": "d04fb70d"
      },
      "source": [
        "### DOWNLOAD the data from Kaggle.com"
      ],
      "id": "d04fb70d"
    },
    {
      "cell_type": "code",
      "metadata": {
        "id": "71da5bd4"
      },
      "source": [
        "!pip install opendatasets --upgrade --quiet\n"
      ],
      "id": "71da5bd4",
      "execution_count": 148,
      "outputs": []
    },
    {
      "cell_type": "code",
      "metadata": {
        "colab": {
          "base_uri": "https://localhost:8080/"
        },
        "id": "e58d274b",
        "outputId": "395814ff-bcbe-4615-f7ca-5cec65081bce"
      },
      "source": [
        "import opendatasets as od\n",
        "\n",
        "od.download('https://www.kaggle.com/kyanyoga/sample-sales-data')"
      ],
      "id": "e58d274b",
      "execution_count": 149,
      "outputs": [
        {
          "output_type": "stream",
          "name": "stdout",
          "text": [
            "Skipping, found downloaded files in \"./sample-sales-data\" (use force=True to force download)\n"
          ]
        }
      ]
    },
    {
      "cell_type": "code",
      "metadata": {
        "id": "6c3ba94d"
      },
      "source": [
        "df = './sample-sales-data/sales_data_sample.csv'"
      ],
      "id": "6c3ba94d",
      "execution_count": 150,
      "outputs": []
    },
    {
      "cell_type": "code",
      "metadata": {
        "id": "2eb3557e"
      },
      "source": [
        "#import libraries\n",
        "import pandas as pd\n",
        "import numpy as np\n",
        "import datetime as dt\n",
        "import matplotlib.pyplot as plt\n",
        "import seaborn as sns\n",
        "sns.set_style(\"whitegrid\")\n",
        "import gc\n",
        "import time\n",
        "import matplotlib.ticker as ticker\n",
        "import plotly.express as px\n",
        "\n",
        "#supress warnings\n",
        "import warnings\n",
        "warnings.filterwarnings(\"ignore\")"
      ],
      "id": "2eb3557e",
      "execution_count": 151,
      "outputs": []
    },
    {
      "cell_type": "markdown",
      "metadata": {
        "id": "6d8056e8"
      },
      "source": [
        "Loading data"
      ],
      "id": "6d8056e8"
    },
    {
      "cell_type": "code",
      "metadata": {
        "id": "8f452f7f",
        "colab": {
          "base_uri": "https://localhost:8080/",
          "height": 322
        },
        "outputId": "80bbbeb9-1747-464c-b7e7-a95a5ac810ec"
      },
      "source": [
        "sales_data = pd.read_csv(df, encoding= 'unicode_escape')\n",
        "sales_data\n",
        "sales_data.head()\n"
      ],
      "id": "8f452f7f",
      "execution_count": 152,
      "outputs": [
        {
          "output_type": "execute_result",
          "data": {
            "text/html": [
              "<div>\n",
              "<style scoped>\n",
              "    .dataframe tbody tr th:only-of-type {\n",
              "        vertical-align: middle;\n",
              "    }\n",
              "\n",
              "    .dataframe tbody tr th {\n",
              "        vertical-align: top;\n",
              "    }\n",
              "\n",
              "    .dataframe thead th {\n",
              "        text-align: right;\n",
              "    }\n",
              "</style>\n",
              "<table border=\"1\" class=\"dataframe\">\n",
              "  <thead>\n",
              "    <tr style=\"text-align: right;\">\n",
              "      <th></th>\n",
              "      <th>ORDERNUMBER</th>\n",
              "      <th>QUANTITYORDERED</th>\n",
              "      <th>PRICEEACH</th>\n",
              "      <th>ORDERLINENUMBER</th>\n",
              "      <th>SALES</th>\n",
              "      <th>ORDERDATE</th>\n",
              "      <th>STATUS</th>\n",
              "      <th>QTR_ID</th>\n",
              "      <th>MONTH_ID</th>\n",
              "      <th>YEAR_ID</th>\n",
              "      <th>PRODUCTLINE</th>\n",
              "      <th>MSRP</th>\n",
              "      <th>PRODUCTCODE</th>\n",
              "      <th>CUSTOMERNAME</th>\n",
              "      <th>PHONE</th>\n",
              "      <th>ADDRESSLINE1</th>\n",
              "      <th>ADDRESSLINE2</th>\n",
              "      <th>CITY</th>\n",
              "      <th>STATE</th>\n",
              "      <th>POSTALCODE</th>\n",
              "      <th>COUNTRY</th>\n",
              "      <th>TERRITORY</th>\n",
              "      <th>CONTACTLASTNAME</th>\n",
              "      <th>CONTACTFIRSTNAME</th>\n",
              "      <th>DEALSIZE</th>\n",
              "    </tr>\n",
              "  </thead>\n",
              "  <tbody>\n",
              "    <tr>\n",
              "      <th>0</th>\n",
              "      <td>10107</td>\n",
              "      <td>30</td>\n",
              "      <td>95.70</td>\n",
              "      <td>2</td>\n",
              "      <td>2871.00</td>\n",
              "      <td>2/24/2003 0:00</td>\n",
              "      <td>Shipped</td>\n",
              "      <td>1</td>\n",
              "      <td>2</td>\n",
              "      <td>2003</td>\n",
              "      <td>Motorcycles</td>\n",
              "      <td>95</td>\n",
              "      <td>S10_1678</td>\n",
              "      <td>Land of Toys Inc.</td>\n",
              "      <td>2125557818</td>\n",
              "      <td>897 Long Airport Avenue</td>\n",
              "      <td>NaN</td>\n",
              "      <td>NYC</td>\n",
              "      <td>NY</td>\n",
              "      <td>10022</td>\n",
              "      <td>USA</td>\n",
              "      <td>NaN</td>\n",
              "      <td>Yu</td>\n",
              "      <td>Kwai</td>\n",
              "      <td>Small</td>\n",
              "    </tr>\n",
              "    <tr>\n",
              "      <th>1</th>\n",
              "      <td>10121</td>\n",
              "      <td>34</td>\n",
              "      <td>81.35</td>\n",
              "      <td>5</td>\n",
              "      <td>2765.90</td>\n",
              "      <td>5/7/2003 0:00</td>\n",
              "      <td>Shipped</td>\n",
              "      <td>2</td>\n",
              "      <td>5</td>\n",
              "      <td>2003</td>\n",
              "      <td>Motorcycles</td>\n",
              "      <td>95</td>\n",
              "      <td>S10_1678</td>\n",
              "      <td>Reims Collectables</td>\n",
              "      <td>26.47.1555</td>\n",
              "      <td>59 rue de l'Abbaye</td>\n",
              "      <td>NaN</td>\n",
              "      <td>Reims</td>\n",
              "      <td>NaN</td>\n",
              "      <td>51100</td>\n",
              "      <td>France</td>\n",
              "      <td>EMEA</td>\n",
              "      <td>Henriot</td>\n",
              "      <td>Paul</td>\n",
              "      <td>Small</td>\n",
              "    </tr>\n",
              "    <tr>\n",
              "      <th>2</th>\n",
              "      <td>10134</td>\n",
              "      <td>41</td>\n",
              "      <td>94.74</td>\n",
              "      <td>2</td>\n",
              "      <td>3884.34</td>\n",
              "      <td>7/1/2003 0:00</td>\n",
              "      <td>Shipped</td>\n",
              "      <td>3</td>\n",
              "      <td>7</td>\n",
              "      <td>2003</td>\n",
              "      <td>Motorcycles</td>\n",
              "      <td>95</td>\n",
              "      <td>S10_1678</td>\n",
              "      <td>Lyon Souveniers</td>\n",
              "      <td>+33 1 46 62 7555</td>\n",
              "      <td>27 rue du Colonel Pierre Avia</td>\n",
              "      <td>NaN</td>\n",
              "      <td>Paris</td>\n",
              "      <td>NaN</td>\n",
              "      <td>75508</td>\n",
              "      <td>France</td>\n",
              "      <td>EMEA</td>\n",
              "      <td>Da Cunha</td>\n",
              "      <td>Daniel</td>\n",
              "      <td>Medium</td>\n",
              "    </tr>\n",
              "    <tr>\n",
              "      <th>3</th>\n",
              "      <td>10145</td>\n",
              "      <td>45</td>\n",
              "      <td>83.26</td>\n",
              "      <td>6</td>\n",
              "      <td>3746.70</td>\n",
              "      <td>8/25/2003 0:00</td>\n",
              "      <td>Shipped</td>\n",
              "      <td>3</td>\n",
              "      <td>8</td>\n",
              "      <td>2003</td>\n",
              "      <td>Motorcycles</td>\n",
              "      <td>95</td>\n",
              "      <td>S10_1678</td>\n",
              "      <td>Toys4GrownUps.com</td>\n",
              "      <td>6265557265</td>\n",
              "      <td>78934 Hillside Dr.</td>\n",
              "      <td>NaN</td>\n",
              "      <td>Pasadena</td>\n",
              "      <td>CA</td>\n",
              "      <td>90003</td>\n",
              "      <td>USA</td>\n",
              "      <td>NaN</td>\n",
              "      <td>Young</td>\n",
              "      <td>Julie</td>\n",
              "      <td>Medium</td>\n",
              "    </tr>\n",
              "    <tr>\n",
              "      <th>4</th>\n",
              "      <td>10159</td>\n",
              "      <td>49</td>\n",
              "      <td>100.00</td>\n",
              "      <td>14</td>\n",
              "      <td>5205.27</td>\n",
              "      <td>10/10/2003 0:00</td>\n",
              "      <td>Shipped</td>\n",
              "      <td>4</td>\n",
              "      <td>10</td>\n",
              "      <td>2003</td>\n",
              "      <td>Motorcycles</td>\n",
              "      <td>95</td>\n",
              "      <td>S10_1678</td>\n",
              "      <td>Corporate Gift Ideas Co.</td>\n",
              "      <td>6505551386</td>\n",
              "      <td>7734 Strong St.</td>\n",
              "      <td>NaN</td>\n",
              "      <td>San Francisco</td>\n",
              "      <td>CA</td>\n",
              "      <td>NaN</td>\n",
              "      <td>USA</td>\n",
              "      <td>NaN</td>\n",
              "      <td>Brown</td>\n",
              "      <td>Julie</td>\n",
              "      <td>Medium</td>\n",
              "    </tr>\n",
              "  </tbody>\n",
              "</table>\n",
              "</div>"
            ],
            "text/plain": [
              "   ORDERNUMBER  QUANTITYORDERED  ...  CONTACTFIRSTNAME  DEALSIZE\n",
              "0        10107               30  ...              Kwai     Small\n",
              "1        10121               34  ...              Paul     Small\n",
              "2        10134               41  ...            Daniel    Medium\n",
              "3        10145               45  ...             Julie    Medium\n",
              "4        10159               49  ...             Julie    Medium\n",
              "\n",
              "[5 rows x 25 columns]"
            ]
          },
          "metadata": {},
          "execution_count": 152
        }
      ]
    },
    {
      "cell_type": "code",
      "metadata": {
        "id": "3da66daa",
        "colab": {
          "base_uri": "https://localhost:8080/"
        },
        "outputId": "d48ab1a6-c629-4eb7-b4bf-e3b0864d2bd6"
      },
      "source": [
        "sales_data.columns"
      ],
      "id": "3da66daa",
      "execution_count": 153,
      "outputs": [
        {
          "output_type": "execute_result",
          "data": {
            "text/plain": [
              "Index(['ORDERNUMBER', 'QUANTITYORDERED', 'PRICEEACH', 'ORDERLINENUMBER',\n",
              "       'SALES', 'ORDERDATE', 'STATUS', 'QTR_ID', 'MONTH_ID', 'YEAR_ID',\n",
              "       'PRODUCTLINE', 'MSRP', 'PRODUCTCODE', 'CUSTOMERNAME', 'PHONE',\n",
              "       'ADDRESSLINE1', 'ADDRESSLINE2', 'CITY', 'STATE', 'POSTALCODE',\n",
              "       'COUNTRY', 'TERRITORY', 'CONTACTLASTNAME', 'CONTACTFIRSTNAME',\n",
              "       'DEALSIZE'],\n",
              "      dtype='object')"
            ]
          },
          "metadata": {},
          "execution_count": 153
        }
      ]
    },
    {
      "cell_type": "markdown",
      "metadata": {
        "id": "bf476734"
      },
      "source": [
        "## DATA CLEANING AND PREPARATION \n",
        "- Check and solve for missing values and errors\n",
        "- Parse 'ORDERDATE' column to a workable pandas datetime format\n",
        "- Setting the index to be 'ORDERDATE' column"
      ],
      "id": "bf476734"
    },
    {
      "cell_type": "code",
      "metadata": {
        "id": "18f3f33d",
        "colab": {
          "base_uri": "https://localhost:8080/"
        },
        "outputId": "e1b4616f-a6d6-4d45-c48f-c0dd997c5ea0"
      },
      "source": [
        "## Missing values percentanges\n",
        "missing_percentages = (sales_data.isna().sum().sort_values(ascending = False)/len(sales_data))*100\n",
        "missing_percentages"
      ],
      "id": "18f3f33d",
      "execution_count": 154,
      "outputs": [
        {
          "output_type": "execute_result",
          "data": {
            "text/plain": [
              "ADDRESSLINE2        89.302161\n",
              "STATE               52.639036\n",
              "TERRITORY           38.044633\n",
              "POSTALCODE           2.692171\n",
              "DEALSIZE             0.000000\n",
              "YEAR_ID              0.000000\n",
              "QUANTITYORDERED      0.000000\n",
              "PRICEEACH            0.000000\n",
              "ORDERLINENUMBER      0.000000\n",
              "SALES                0.000000\n",
              "ORDERDATE            0.000000\n",
              "STATUS               0.000000\n",
              "QTR_ID               0.000000\n",
              "MONTH_ID             0.000000\n",
              "PRODUCTCODE          0.000000\n",
              "PRODUCTLINE          0.000000\n",
              "MSRP                 0.000000\n",
              "CONTACTFIRSTNAME     0.000000\n",
              "CUSTOMERNAME         0.000000\n",
              "PHONE                0.000000\n",
              "ADDRESSLINE1         0.000000\n",
              "CITY                 0.000000\n",
              "COUNTRY              0.000000\n",
              "CONTACTLASTNAME      0.000000\n",
              "ORDERNUMBER          0.000000\n",
              "dtype: float64"
            ]
          },
          "metadata": {},
          "execution_count": 154
        }
      ]
    },
    {
      "cell_type": "code",
      "metadata": {
        "id": "a2bcf744"
      },
      "source": [
        "## Dropping the irrelevant variables and those with NAs.\n",
        "to_drop = ['PHONE','ADDRESSLINE1','ADDRESSLINE2','STATE','POSTALCODE']\n",
        "sales_data = sales_data.drop(to_drop, axis=1)"
      ],
      "id": "a2bcf744",
      "execution_count": 155,
      "outputs": []
    },
    {
      "cell_type": "markdown",
      "metadata": {
        "id": "ff3cba92"
      },
      "source": [
        "COUNTRY and CITY will represent the order geographical information."
      ],
      "id": "ff3cba92"
    },
    {
      "cell_type": "code",
      "metadata": {
        "id": "1e5a33ef",
        "colab": {
          "base_uri": "https://localhost:8080/"
        },
        "outputId": "9700cede-6923-4d54-8cba-ade5a6732441"
      },
      "source": [
        "sales_data.info()"
      ],
      "id": "1e5a33ef",
      "execution_count": 156,
      "outputs": [
        {
          "output_type": "stream",
          "name": "stdout",
          "text": [
            "<class 'pandas.core.frame.DataFrame'>\n",
            "RangeIndex: 2823 entries, 0 to 2822\n",
            "Data columns (total 20 columns):\n",
            " #   Column            Non-Null Count  Dtype  \n",
            "---  ------            --------------  -----  \n",
            " 0   ORDERNUMBER       2823 non-null   int64  \n",
            " 1   QUANTITYORDERED   2823 non-null   int64  \n",
            " 2   PRICEEACH         2823 non-null   float64\n",
            " 3   ORDERLINENUMBER   2823 non-null   int64  \n",
            " 4   SALES             2823 non-null   float64\n",
            " 5   ORDERDATE         2823 non-null   object \n",
            " 6   STATUS            2823 non-null   object \n",
            " 7   QTR_ID            2823 non-null   int64  \n",
            " 8   MONTH_ID          2823 non-null   int64  \n",
            " 9   YEAR_ID           2823 non-null   int64  \n",
            " 10  PRODUCTLINE       2823 non-null   object \n",
            " 11  MSRP              2823 non-null   int64  \n",
            " 12  PRODUCTCODE       2823 non-null   object \n",
            " 13  CUSTOMERNAME      2823 non-null   object \n",
            " 14  CITY              2823 non-null   object \n",
            " 15  COUNTRY           2823 non-null   object \n",
            " 16  TERRITORY         1749 non-null   object \n",
            " 17  CONTACTLASTNAME   2823 non-null   object \n",
            " 18  CONTACTFIRSTNAME  2823 non-null   object \n",
            " 19  DEALSIZE          2823 non-null   object \n",
            "dtypes: float64(2), int64(7), object(11)\n",
            "memory usage: 441.2+ KB\n"
          ]
        }
      ]
    },
    {
      "cell_type": "code",
      "metadata": {
        "id": "d2ac9158"
      },
      "source": [
        "### Changing the data type of variable 'ORDERDATE' from object to datetime\n",
        "sales_data['ORDERDATE'] = pd.to_datetime(sales_data['ORDERDATE'])"
      ],
      "id": "d2ac9158",
      "execution_count": 157,
      "outputs": []
    },
    {
      "cell_type": "markdown",
      "metadata": {
        "id": "db313438"
      },
      "source": [
        "Checking for errors"
      ],
      "id": "db313438"
    },
    {
      "cell_type": "code",
      "metadata": {
        "id": "9579cba5",
        "colab": {
          "base_uri": "https://localhost:8080/",
          "height": 294
        },
        "outputId": "e9cb31dc-b6de-4333-bf92-0c1fa87af078"
      },
      "source": [
        "## A Summary Distribution of the Quantitative Variables\n",
        "quantitative_variable = ['QUANTITYORDERED','PRICEEACH','SALES','MSRP']\n",
        "sales_data[quantitative_variable].describe()"
      ],
      "id": "9579cba5",
      "execution_count": 158,
      "outputs": [
        {
          "output_type": "execute_result",
          "data": {
            "text/html": [
              "<div>\n",
              "<style scoped>\n",
              "    .dataframe tbody tr th:only-of-type {\n",
              "        vertical-align: middle;\n",
              "    }\n",
              "\n",
              "    .dataframe tbody tr th {\n",
              "        vertical-align: top;\n",
              "    }\n",
              "\n",
              "    .dataframe thead th {\n",
              "        text-align: right;\n",
              "    }\n",
              "</style>\n",
              "<table border=\"1\" class=\"dataframe\">\n",
              "  <thead>\n",
              "    <tr style=\"text-align: right;\">\n",
              "      <th></th>\n",
              "      <th>QUANTITYORDERED</th>\n",
              "      <th>PRICEEACH</th>\n",
              "      <th>SALES</th>\n",
              "      <th>MSRP</th>\n",
              "    </tr>\n",
              "  </thead>\n",
              "  <tbody>\n",
              "    <tr>\n",
              "      <th>count</th>\n",
              "      <td>2823.000000</td>\n",
              "      <td>2823.000000</td>\n",
              "      <td>2823.000000</td>\n",
              "      <td>2823.000000</td>\n",
              "    </tr>\n",
              "    <tr>\n",
              "      <th>mean</th>\n",
              "      <td>35.092809</td>\n",
              "      <td>83.658544</td>\n",
              "      <td>3553.889072</td>\n",
              "      <td>100.715551</td>\n",
              "    </tr>\n",
              "    <tr>\n",
              "      <th>std</th>\n",
              "      <td>9.741443</td>\n",
              "      <td>20.174277</td>\n",
              "      <td>1841.865106</td>\n",
              "      <td>40.187912</td>\n",
              "    </tr>\n",
              "    <tr>\n",
              "      <th>min</th>\n",
              "      <td>6.000000</td>\n",
              "      <td>26.880000</td>\n",
              "      <td>482.130000</td>\n",
              "      <td>33.000000</td>\n",
              "    </tr>\n",
              "    <tr>\n",
              "      <th>25%</th>\n",
              "      <td>27.000000</td>\n",
              "      <td>68.860000</td>\n",
              "      <td>2203.430000</td>\n",
              "      <td>68.000000</td>\n",
              "    </tr>\n",
              "    <tr>\n",
              "      <th>50%</th>\n",
              "      <td>35.000000</td>\n",
              "      <td>95.700000</td>\n",
              "      <td>3184.800000</td>\n",
              "      <td>99.000000</td>\n",
              "    </tr>\n",
              "    <tr>\n",
              "      <th>75%</th>\n",
              "      <td>43.000000</td>\n",
              "      <td>100.000000</td>\n",
              "      <td>4508.000000</td>\n",
              "      <td>124.000000</td>\n",
              "    </tr>\n",
              "    <tr>\n",
              "      <th>max</th>\n",
              "      <td>97.000000</td>\n",
              "      <td>100.000000</td>\n",
              "      <td>14082.800000</td>\n",
              "      <td>214.000000</td>\n",
              "    </tr>\n",
              "  </tbody>\n",
              "</table>\n",
              "</div>"
            ],
            "text/plain": [
              "       QUANTITYORDERED    PRICEEACH         SALES         MSRP\n",
              "count      2823.000000  2823.000000   2823.000000  2823.000000\n",
              "mean         35.092809    83.658544   3553.889072   100.715551\n",
              "std           9.741443    20.174277   1841.865106    40.187912\n",
              "min           6.000000    26.880000    482.130000    33.000000\n",
              "25%          27.000000    68.860000   2203.430000    68.000000\n",
              "50%          35.000000    95.700000   3184.800000    99.000000\n",
              "75%          43.000000   100.000000   4508.000000   124.000000\n",
              "max          97.000000   100.000000  14082.800000   214.000000"
            ]
          },
          "metadata": {},
          "execution_count": 158
        }
      ]
    },
    {
      "cell_type": "markdown",
      "metadata": {
        "id": "c6426e98"
      },
      "source": [
        "There are no negative values for the quantitative variables, this is a good sign because we cannot have negative prices or quantities."
      ],
      "id": "c6426e98"
    },
    {
      "cell_type": "markdown",
      "metadata": {
        "id": "4648b4a8"
      },
      "source": [
        "## DATA EXPLORATION "
      ],
      "id": "4648b4a8"
    },
    {
      "cell_type": "markdown",
      "metadata": {
        "id": "8cfeca0f"
      },
      "source": [
        "PLOT DISTRIBUTION FOR ALL QUANTITATIVE VARIABLES"
      ],
      "id": "8cfeca0f"
    },
    {
      "cell_type": "code",
      "metadata": {
        "id": "00be3920",
        "colab": {
          "base_uri": "https://localhost:8080/",
          "height": 863
        },
        "outputId": "ec27e1d3-f71c-485d-8143-64b865c38d8b"
      },
      "source": [
        "sales_data[quantitative_variable].plot(kind='density', subplots=True, sharex=False, sharey=False, layout=(2,2),figsize=(15,15))\n",
        "plt.show()"
      ],
      "id": "00be3920",
      "execution_count": 159,
      "outputs": [
        {
          "output_type": "display_data",
          "data": {
            "image/png": "[encoded data removed]",
            "text/plain": [
              "<Figure size 1080x1080 with 4 Axes>"
            ]
          },
          "metadata": {}
        }
      ]
    },
    {
      "cell_type": "markdown",
      "metadata": {
        "id": "8562e70c"
      },
      "source": [
        " QUANTITYORDERED: we can see value between 30 to 50 has most order frequency."
      ],
      "id": "8562e70c"
    },
    {
      "cell_type": "code",
      "metadata": {
        "id": "ca68eed6",
        "colab": {
          "base_uri": "https://localhost:8080/",
          "height": 482
        },
        "outputId": "11b3e5aa-e831-4faf-e47b-f050815f42a7"
      },
      "source": [
        "## Frequency distribution of status\n",
        "status = sales_data['STATUS'].value_counts(normalize = True)\n",
        "plt.figure(figsize=(16,8))\n",
        "status.plot(kind= 'pie', autopct='%1.1f%%')\n",
        "plt.title(\"Pie Chart for Status of Orders\")\n",
        "plt.show()"
      ],
      "id": "ca68eed6",
      "execution_count": 160,
      "outputs": [
        {
          "output_type": "display_data",
          "data": {
            "image/png": "[encoded data removed]",
            "text/plain": [
              "<Figure size 1152x576 with 1 Axes>"
            ]
          },
          "metadata": {}
        }
      ]
    },
    {
      "cell_type": "markdown",
      "metadata": {
        "id": "3c83c031"
      },
      "source": [
        "Majority of the orders (93%) have already been shipped."
      ],
      "id": "3c83c031"
    },
    {
      "cell_type": "markdown",
      "metadata": {
        "id": "8fdee0de"
      },
      "source": [
        "Checking for time frame of the data"
      ],
      "id": "8fdee0de"
    },
    {
      "cell_type": "code",
      "metadata": {
        "id": "becce04b",
        "colab": {
          "base_uri": "https://localhost:8080/"
        },
        "outputId": "268f59eb-6ae0-492e-a9b8-8e3d72e98e0e"
      },
      "source": [
        "sales_data.groupby(['YEAR_ID'])['MONTH_ID'].nunique()"
      ],
      "id": "becce04b",
      "execution_count": 161,
      "outputs": [
        {
          "output_type": "execute_result",
          "data": {
            "text/plain": [
              "YEAR_ID\n",
              "2003    12\n",
              "2004    12\n",
              "2005     5\n",
              "Name: MONTH_ID, dtype: int64"
            ]
          },
          "metadata": {},
          "execution_count": 161
        }
      ]
    },
    {
      "cell_type": "markdown",
      "metadata": {
        "id": "22cc7ef1"
      },
      "source": [
        "2005 has incomplete data, monthly data will be used for further analysis"
      ],
      "id": "22cc7ef1"
    },
    {
      "cell_type": "markdown",
      "metadata": {
        "id": "406640ec"
      },
      "source": [
        "#### MONTHLY REVENUES "
      ],
      "id": "406640ec"
    },
    {
      "cell_type": "code",
      "metadata": {
        "id": "3d569e23",
        "colab": {
          "base_uri": "https://localhost:8080/",
          "height": 513
        },
        "outputId": "b2c979fa-1d76-4f37-c0fd-73276e230564"
      },
      "source": [
        "#Monthly Revenue\n",
        "plt.figure(figsize=(16,8))\n",
        "\n",
        "monthly_revenue = sales_data.groupby(['YEAR_ID','MONTH_ID'])['SALES'].sum().reset_index()\n",
        "sns.lineplot(x=\"MONTH_ID\", y=\"SALES\",hue=\"YEAR_ID\", data = monthly_revenue)\n",
        "plt.xlabel('Month')\n",
        "plt.ylabel('Sales')\n",
        "plt.title('Monthly Revenue')\n",
        "plt.show()"
      ],
      "id": "3d569e23",
      "execution_count": 162,
      "outputs": [
        {
          "output_type": "display_data",
          "data": {
            "image/png": "[encoded data removed]",
            "text/plain": [
              "<Figure size 1152x576 with 1 Axes>"
            ]
          },
          "metadata": {}
        }
      ]
    },
    {
      "cell_type": "markdown",
      "metadata": {
        "id": "b135b7ea"
      },
      "source": [
        "The data shows that for both  2003 and 2004 sales peaked around October and November, this might be due to the many festivities and holidays around that time(Thanksgiving, Halloween, National Days, et al). \n",
        "\n",
        "We dont have enough data for 2005 but the available data shows the sales had increased compared to previous months in 2003 and 2004"
      ],
      "id": "b135b7ea"
    },
    {
      "cell_type": "code",
      "metadata": {
        "colab": {
          "base_uri": "https://localhost:8080/",
          "height": 526
        },
        "id": "4xEc3GZtpVDq",
        "outputId": "5c01e7a7-92c8-434d-e826-fbd2207fde1f"
      },
      "source": [
        "## Get the hour for each sale timestamp\n",
        "sales_data['ORDERDATE'].dt.dayofweek\n",
        "plt.figure(figsize=(16,8))\n",
        "sns.countplot(sales_data['ORDERDATE'].dt.dayofweek)\n",
        "plt.title('Count of Orders by Day of Week')\n",
        "plt.xticks(np.arange(0,7),np.arange(0,7),rotation=90)\n",
        "plt.xlabel('Day of Week')\n",
        "plt.ylabel('Number of Orders')\n",
        "plt.plot()\n"
      ],
      "id": "4xEc3GZtpVDq",
      "execution_count": 163,
      "outputs": [
        {
          "output_type": "execute_result",
          "data": {
            "text/plain": [
              "[]"
            ]
          },
          "metadata": {},
          "execution_count": 163
        },
        {
          "output_type": "display_data",
          "data": {
            "image/png": "[encoded data removed]",
            "text/plain": [
              "<Figure size 1152x576 with 1 Axes>"
            ]
          },
          "metadata": {}
        }
      ]
    },
    {
      "cell_type": "markdown",
      "metadata": {
        "id": "V68L4letun8o"
      },
      "source": [
        "Most sales happen on Friday, closely followed by Wednesday. So if the retailer is going to advertise effectively to increase the likelihood of more sales, they should advertise more on between Tuesday and Friday when they have more customer traffic."
      ],
      "id": "V68L4letun8o"
    },
    {
      "cell_type": "markdown",
      "metadata": {
        "id": "1dbeb322"
      },
      "source": [
        "#### COUNTRY SALES"
      ],
      "id": "1dbeb322"
    },
    {
      "cell_type": "code",
      "metadata": {
        "id": "50643a67",
        "colab": {
          "base_uri": "https://localhost:8080/",
          "height": 513
        },
        "outputId": "ae0fd47b-7ce1-4f63-981a-4389ac0ae5d8"
      },
      "source": [
        "plt.figure(figsize=(16,8))\n",
        "sales_per_country = sales_data.groupby(['COUNTRY'])['SALES'].sum().sort_values(ascending=False)\n",
        "sales_per_country[:10].plot(kind = 'barh', color='orange')\n",
        "plt.title('Top 10 Countries with Most Sales')\n",
        "plt.xlabel('Total Sales')\n",
        "plt.ylabel('Country')\n",
        "plt.show()"
      ],
      "id": "50643a67",
      "execution_count": 164,
      "outputs": [
        {
          "output_type": "display_data",
          "data": {
            "image/png": "[encoded data removed]",
            "text/plain": [
              "<Figure size 1152x576 with 1 Axes>"
            ]
          },
          "metadata": {}
        }
      ]
    },
    {
      "cell_type": "markdown",
      "metadata": {
        "id": "ab4102b8"
      },
      "source": [
        "USA has the most sales, followed by Spain and France"
      ],
      "id": "ab4102b8"
    },
    {
      "cell_type": "markdown",
      "metadata": {
        "id": "45ac3808"
      },
      "source": [
        "#### CITY SALES"
      ],
      "id": "45ac3808"
    },
    {
      "cell_type": "code",
      "metadata": {
        "id": "2c15b8a9",
        "colab": {
          "base_uri": "https://localhost:8080/",
          "height": 513
        },
        "outputId": "c6383807-2b60-4faa-fa0a-813594af776e"
      },
      "source": [
        "plt.figure(figsize=(16,8))\n",
        "sales_per_city = sales_data.groupby(['CITY'])['SALES'].sum().sort_values(ascending=False)\n",
        "sales_per_city[:10].plot(kind = 'barh', color='darkblue')\n",
        "plt.title('Top 10 Cities with Most Sales')\n",
        "plt.xlabel('Total Sales')\n",
        "plt.ylabel('City')\n",
        "plt.show()"
      ],
      "id": "2c15b8a9",
      "execution_count": 165,
      "outputs": [
        {
          "output_type": "display_data",
          "data": {
            "image/png": "[encoded data removed]",
            "text/plain": [
              "<Figure size 1152x576 with 1 Axes>"
            ]
          },
          "metadata": {}
        }
      ]
    },
    {
      "cell_type": "code",
      "metadata": {
        "id": "7583e445",
        "colab": {
          "base_uri": "https://localhost:8080/",
          "height": 482
        },
        "outputId": "9f7b768f-d042-4581-81ae-38b950d6c3df"
      },
      "source": [
        "\n",
        "product_sales = (sales_data.groupby(['PRODUCTLINE'])['SALES'].sum().sort_values(ascending=False)/sales_data['SALES'].sum())*100\n",
        "plt.figure(figsize=(16,8))\n",
        "product_sales.plot(kind= 'pie', autopct='%1.1f%%')\n",
        "plt.title(\"Pie Chart for Productline Sales\")\n",
        "plt.show()"
      ],
      "id": "7583e445",
      "execution_count": 166,
      "outputs": [
        {
          "output_type": "display_data",
          "data": {
            "image/png": "[encoded data removed]",
            "text/plain": [
              "<Figure size 1152x576 with 1 Axes>"
            ]
          },
          "metadata": {}
        }
      ]
    },
    {
      "cell_type": "code",
      "metadata": {
        "colab": {
          "base_uri": "https://localhost:8080/",
          "height": 498
        },
        "id": "knCUyZ_u7bM8",
        "outputId": "54b40fa3-a222-4d94-e93e-52a21d2037b9"
      },
      "source": [
        "product_demand = sales_data.groupby(['PRODUCTLINE'])['QUANTITYORDERED'].sum().sort_values(ascending=False)\n",
        "plt.figure(figsize=(16,8))\n",
        "product_sales.plot(kind= 'barh')\n",
        "plt.title(\"Bar Chart for Productline Demand\")\n",
        "plt.show()"
      ],
      "id": "knCUyZ_u7bM8",
      "execution_count": 167,
      "outputs": [
        {
          "output_type": "display_data",
          "data": {
            "image/png": "[encoded data removed]",
            "text/plain": [
              "<Figure size 1152x576 with 1 Axes>"
            ]
          },
          "metadata": {}
        }
      ]
    },
    {
      "cell_type": "markdown",
      "metadata": {
        "id": "bbabfbfc"
      },
      "source": [
        "Classic cars are sold the most with over 30000 units sold at 39.1% followed by vintage cars and motorcycles."
      ],
      "id": "bbabfbfc"
    },
    {
      "cell_type": "markdown",
      "metadata": {
        "id": "6d86762d"
      },
      "source": [
        "#### Testing for Relationships within variables"
      ],
      "id": "6d86762d"
    },
    {
      "cell_type": "code",
      "metadata": {
        "id": "e7715654",
        "colab": {
          "base_uri": "https://localhost:8080/",
          "height": 650
        },
        "outputId": "76fd32b6-e7cb-4bae-8a38-d28b960234cf"
      },
      "source": [
        "plt.figure(figsize = (9,9))\n",
        "corr_matrix = sales_data.corr()\n",
        "sns.heatmap(corr_matrix, annot = True)"
      ],
      "id": "e7715654",
      "execution_count": 168,
      "outputs": [
        {
          "output_type": "execute_result",
          "data": {
            "text/plain": [
              "<matplotlib.axes._subplots.AxesSubplot at 0x7fdf97d59650>"
            ]
          },
          "metadata": {},
          "execution_count": 168
        },
        {
          "output_type": "display_data",
          "data": {
            "image/png": "[encoded data removed]",
            "text/plain": [
              "<Figure size 648x648 with 2 Axes>"
            ]
          },
          "metadata": {}
        }
      ]
    },
    {
      "cell_type": "markdown",
      "metadata": {
        "id": "fa8666ae"
      },
      "source": [
        "###### Relevant observations\n",
        "There is a positively correlated between SALES, QUANTITYORDERED, PRICEEACH and MSRP. This means The higher the price of product the more orders it recieves and the quantities ordered the more the sales generated"
      ],
      "id": "fa8666ae"
    },
    {
      "cell_type": "markdown",
      "metadata": {
        "id": "360f77bd"
      },
      "source": [
        "## RFM analysis (recency, frequency, monetary):\n",
        "\n",
        "RFM analysis is a marketing technique used to quantitatively rank and group customers based on the recency, frequency and monetary total of their recent transactions to identify the best customers and perform targeted marketing campaigns.\n",
        "\n",
        "- For RFM analysis, we need only these columns. 'CUSTOMERNAME', 'ORDERNUMBER', 'ORDERDATE' and 'SALES'"
      ],
      "id": "360f77bd"
    },
    {
      "cell_type": "code",
      "metadata": {
        "id": "9a18eabc",
        "colab": {
          "base_uri": "https://localhost:8080/",
          "height": 202
        },
        "outputId": "4abc1ffe-2746-45ea-c5e4-205fa607f16c"
      },
      "source": [
        "rfm = ['CUSTOMERNAME', 'ORDERNUMBER', 'ORDERDATE', 'SALES']\n",
        "rfm_data = sales_data[rfm]\n",
        "rfm_data.head()"
      ],
      "id": "9a18eabc",
      "execution_count": 169,
      "outputs": [
        {
          "output_type": "execute_result",
          "data": {
            "text/html": [
              "<div>\n",
              "<style scoped>\n",
              "    .dataframe tbody tr th:only-of-type {\n",
              "        vertical-align: middle;\n",
              "    }\n",
              "\n",
              "    .dataframe tbody tr th {\n",
              "        vertical-align: top;\n",
              "    }\n",
              "\n",
              "    .dataframe thead th {\n",
              "        text-align: right;\n",
              "    }\n",
              "</style>\n",
              "<table border=\"1\" class=\"dataframe\">\n",
              "  <thead>\n",
              "    <tr style=\"text-align: right;\">\n",
              "      <th></th>\n",
              "      <th>CUSTOMERNAME</th>\n",
              "      <th>ORDERNUMBER</th>\n",
              "      <th>ORDERDATE</th>\n",
              "      <th>SALES</th>\n",
              "    </tr>\n",
              "  </thead>\n",
              "  <tbody>\n",
              "    <tr>\n",
              "      <th>0</th>\n",
              "      <td>Land of Toys Inc.</td>\n",
              "      <td>10107</td>\n",
              "      <td>2003-02-24</td>\n",
              "      <td>2871.00</td>\n",
              "    </tr>\n",
              "    <tr>\n",
              "      <th>1</th>\n",
              "      <td>Reims Collectables</td>\n",
              "      <td>10121</td>\n",
              "      <td>2003-05-07</td>\n",
              "      <td>2765.90</td>\n",
              "    </tr>\n",
              "    <tr>\n",
              "      <th>2</th>\n",
              "      <td>Lyon Souveniers</td>\n",
              "      <td>10134</td>\n",
              "      <td>2003-07-01</td>\n",
              "      <td>3884.34</td>\n",
              "    </tr>\n",
              "    <tr>\n",
              "      <th>3</th>\n",
              "      <td>Toys4GrownUps.com</td>\n",
              "      <td>10145</td>\n",
              "      <td>2003-08-25</td>\n",
              "      <td>3746.70</td>\n",
              "    </tr>\n",
              "    <tr>\n",
              "      <th>4</th>\n",
              "      <td>Corporate Gift Ideas Co.</td>\n",
              "      <td>10159</td>\n",
              "      <td>2003-10-10</td>\n",
              "      <td>5205.27</td>\n",
              "    </tr>\n",
              "  </tbody>\n",
              "</table>\n",
              "</div>"
            ],
            "text/plain": [
              "               CUSTOMERNAME  ORDERNUMBER  ORDERDATE    SALES\n",
              "0         Land of Toys Inc.        10107 2003-02-24  2871.00\n",
              "1        Reims Collectables        10121 2003-05-07  2765.90\n",
              "2           Lyon Souveniers        10134 2003-07-01  3884.34\n",
              "3         Toys4GrownUps.com        10145 2003-08-25  3746.70\n",
              "4  Corporate Gift Ideas Co.        10159 2003-10-10  5205.27"
            ]
          },
          "metadata": {},
          "execution_count": 169
        }
      ]
    },
    {
      "cell_type": "markdown",
      "metadata": {
        "id": "d0896479"
      },
      "source": [
        "##### Create the RFM Table\n",
        "\n",
        "We will use to calculate recency, frequency and monetary value\n",
        " - Recency = most recent date - last order date of customer\n",
        " - Frequency = Number of orders per customer\n",
        " - Sales = Sales per Customer\n"
      ],
      "id": "d0896479"
    },
    {
      "cell_type": "code",
      "metadata": {
        "id": "13eca20b",
        "colab": {
          "base_uri": "https://localhost:8080/",
          "height": 232
        },
        "outputId": "5bc49199-137d-480a-ecdd-1f7bc4491f0c"
      },
      "source": [
        "NOW = rfm_data['ORDERDATE'].max()  # Most recent date\n",
        "RFM_table=rfm_data.groupby('CUSTOMERNAME').agg({'ORDERDATE': lambda x: (NOW - x.max()).days, # Recency\n",
        "                                                'ORDERNUMBER': 'count', # Frequency\n",
        "                                                'SALES': 'sum'})    # Monetary \n",
        "\n",
        "RFM_table['ORDERDATE'] = RFM_table['ORDERDATE'].astype(int)\n",
        "\n",
        "RFM_table.rename(columns={'ORDERDATE': 'Recency', \n",
        "                         'ORDERNUMBER': 'Frequency',\n",
        "                         'SALES': 'Monetary_value'}, inplace=True)\n",
        "RFM_table.head()"
      ],
      "id": "13eca20b",
      "execution_count": 170,
      "outputs": [
        {
          "output_type": "execute_result",
          "data": {
            "text/html": [
              "<div>\n",
              "<style scoped>\n",
              "    .dataframe tbody tr th:only-of-type {\n",
              "        vertical-align: middle;\n",
              "    }\n",
              "\n",
              "    .dataframe tbody tr th {\n",
              "        vertical-align: top;\n",
              "    }\n",
              "\n",
              "    .dataframe thead th {\n",
              "        text-align: right;\n",
              "    }\n",
              "</style>\n",
              "<table border=\"1\" class=\"dataframe\">\n",
              "  <thead>\n",
              "    <tr style=\"text-align: right;\">\n",
              "      <th></th>\n",
              "      <th>Recency</th>\n",
              "      <th>Frequency</th>\n",
              "      <th>Monetary_value</th>\n",
              "    </tr>\n",
              "    <tr>\n",
              "      <th>CUSTOMERNAME</th>\n",
              "      <th></th>\n",
              "      <th></th>\n",
              "      <th></th>\n",
              "    </tr>\n",
              "  </thead>\n",
              "  <tbody>\n",
              "    <tr>\n",
              "      <th>AV Stores, Co.</th>\n",
              "      <td>195</td>\n",
              "      <td>51</td>\n",
              "      <td>157807.81</td>\n",
              "    </tr>\n",
              "    <tr>\n",
              "      <th>Alpha Cognac</th>\n",
              "      <td>64</td>\n",
              "      <td>20</td>\n",
              "      <td>70488.44</td>\n",
              "    </tr>\n",
              "    <tr>\n",
              "      <th>Amica Models &amp; Co.</th>\n",
              "      <td>264</td>\n",
              "      <td>26</td>\n",
              "      <td>94117.26</td>\n",
              "    </tr>\n",
              "    <tr>\n",
              "      <th>Anna's Decorations, Ltd</th>\n",
              "      <td>83</td>\n",
              "      <td>46</td>\n",
              "      <td>153996.13</td>\n",
              "    </tr>\n",
              "    <tr>\n",
              "      <th>Atelier graphique</th>\n",
              "      <td>187</td>\n",
              "      <td>7</td>\n",
              "      <td>24179.96</td>\n",
              "    </tr>\n",
              "  </tbody>\n",
              "</table>\n",
              "</div>"
            ],
            "text/plain": [
              "                         Recency  Frequency  Monetary_value\n",
              "CUSTOMERNAME                                               \n",
              "AV Stores, Co.               195         51       157807.81\n",
              "Alpha Cognac                  64         20        70488.44\n",
              "Amica Models & Co.           264         26        94117.26\n",
              "Anna's Decorations, Ltd       83         46       153996.13\n",
              "Atelier graphique            187          7        24179.96"
            ]
          },
          "metadata": {},
          "execution_count": 170
        }
      ]
    },
    {
      "cell_type": "markdown",
      "metadata": {
        "id": "ef188bf7"
      },
      "source": [
        "### CUSTOMER SEGMENTATION\n",
        "\n",
        "Dividing the customer into 4 segments(Randomly Chosen)\n",
        "\n",
        "Recency/Frequency/MonetaryValue : Level 4 > Level 3> Level 2 > Level 1\n",
        "\n",
        "Lower the recency, higher the Recency level\n",
        "Higher the number of orders, higher the Frequency level\n",
        "Higher the monetary value, higher the MonetaryValue level"
      ],
      "id": "ef188bf7"
    },
    {
      "cell_type": "code",
      "metadata": {
        "id": "23e1b6cb",
        "colab": {
          "base_uri": "https://localhost:8080/",
          "height": 232
        },
        "outputId": "cb76d1da-8b05-4ead-8c9b-0ed6926951e5"
      },
      "source": [
        "#Dividing into segments\n",
        "\n",
        "# Create a spend quartile with 4 groups - a range between 1 and 5\n",
        "Recency_quartile = pd.qcut(RFM_table['Recency'], q=4, labels=list(range(4, 0, -1)))\n",
        "Frequency_quartile = pd.qcut(RFM_table['Frequency'], q=4, labels=range(1,5))\n",
        "MonetaryValue_quartile = pd.qcut(RFM_table['Monetary_value'], q=4, labels=range(1,5))\n",
        "\n",
        "\n",
        "# Assign the quartile values to the Spend_Quartile column in data\n",
        "RFM_table['r_quartile'] = Recency_quartile\n",
        "RFM_table['f_quartile'] = Frequency_quartile\n",
        "RFM_table['m_quartile'] = MonetaryValue_quartile\n",
        "\n",
        "RFM_table.head()"
      ],
      "id": "23e1b6cb",
      "execution_count": 171,
      "outputs": [
        {
          "output_type": "execute_result",
          "data": {
            "text/html": [
              "<div>\n",
              "<style scoped>\n",
              "    .dataframe tbody tr th:only-of-type {\n",
              "        vertical-align: middle;\n",
              "    }\n",
              "\n",
              "    .dataframe tbody tr th {\n",
              "        vertical-align: top;\n",
              "    }\n",
              "\n",
              "    .dataframe thead th {\n",
              "        text-align: right;\n",
              "    }\n",
              "</style>\n",
              "<table border=\"1\" class=\"dataframe\">\n",
              "  <thead>\n",
              "    <tr style=\"text-align: right;\">\n",
              "      <th></th>\n",
              "      <th>Recency</th>\n",
              "      <th>Frequency</th>\n",
              "      <th>Monetary_value</th>\n",
              "      <th>r_quartile</th>\n",
              "      <th>f_quartile</th>\n",
              "      <th>m_quartile</th>\n",
              "    </tr>\n",
              "    <tr>\n",
              "      <th>CUSTOMERNAME</th>\n",
              "      <th></th>\n",
              "      <th></th>\n",
              "      <th></th>\n",
              "      <th></th>\n",
              "      <th></th>\n",
              "      <th></th>\n",
              "    </tr>\n",
              "  </thead>\n",
              "  <tbody>\n",
              "    <tr>\n",
              "      <th>AV Stores, Co.</th>\n",
              "      <td>195</td>\n",
              "      <td>51</td>\n",
              "      <td>157807.81</td>\n",
              "      <td>2</td>\n",
              "      <td>4</td>\n",
              "      <td>4</td>\n",
              "    </tr>\n",
              "    <tr>\n",
              "      <th>Alpha Cognac</th>\n",
              "      <td>64</td>\n",
              "      <td>20</td>\n",
              "      <td>70488.44</td>\n",
              "      <td>4</td>\n",
              "      <td>2</td>\n",
              "      <td>2</td>\n",
              "    </tr>\n",
              "    <tr>\n",
              "      <th>Amica Models &amp; Co.</th>\n",
              "      <td>264</td>\n",
              "      <td>26</td>\n",
              "      <td>94117.26</td>\n",
              "      <td>1</td>\n",
              "      <td>2</td>\n",
              "      <td>3</td>\n",
              "    </tr>\n",
              "    <tr>\n",
              "      <th>Anna's Decorations, Ltd</th>\n",
              "      <td>83</td>\n",
              "      <td>46</td>\n",
              "      <td>153996.13</td>\n",
              "      <td>3</td>\n",
              "      <td>4</td>\n",
              "      <td>4</td>\n",
              "    </tr>\n",
              "    <tr>\n",
              "      <th>Atelier graphique</th>\n",
              "      <td>187</td>\n",
              "      <td>7</td>\n",
              "      <td>24179.96</td>\n",
              "      <td>2</td>\n",
              "      <td>1</td>\n",
              "      <td>1</td>\n",
              "    </tr>\n",
              "  </tbody>\n",
              "</table>\n",
              "</div>"
            ],
            "text/plain": [
              "                         Recency  Frequency  ...  f_quartile m_quartile\n",
              "CUSTOMERNAME                                 ...                       \n",
              "AV Stores, Co.               195         51  ...           4          4\n",
              "Alpha Cognac                  64         20  ...           2          2\n",
              "Amica Models & Co.           264         26  ...           2          3\n",
              "Anna's Decorations, Ltd       83         46  ...           4          4\n",
              "Atelier graphique            187          7  ...           1          1\n",
              "\n",
              "[5 rows x 6 columns]"
            ]
          },
          "metadata": {},
          "execution_count": 171
        }
      ]
    },
    {
      "cell_type": "markdown",
      "metadata": {
        "id": "bd03529b"
      },
      "source": [
        "#### Calculating RFM Score"
      ],
      "id": "bd03529b"
    },
    {
      "cell_type": "code",
      "metadata": {
        "id": "84e29bb6",
        "colab": {
          "base_uri": "https://localhost:8080/",
          "height": 232
        },
        "outputId": "e34e0e0f-637d-4a0b-c03b-29f8ae85be69"
      },
      "source": [
        "RFM_table['RFM_Score'] = RFM_table[['r_quartile','f_quartile','m_quartile']].sum(axis=1)\n",
        "RFM_table.head()"
      ],
      "id": "84e29bb6",
      "execution_count": 172,
      "outputs": [
        {
          "output_type": "execute_result",
          "data": {
            "text/html": [
              "<div>\n",
              "<style scoped>\n",
              "    .dataframe tbody tr th:only-of-type {\n",
              "        vertical-align: middle;\n",
              "    }\n",
              "\n",
              "    .dataframe tbody tr th {\n",
              "        vertical-align: top;\n",
              "    }\n",
              "\n",
              "    .dataframe thead th {\n",
              "        text-align: right;\n",
              "    }\n",
              "</style>\n",
              "<table border=\"1\" class=\"dataframe\">\n",
              "  <thead>\n",
              "    <tr style=\"text-align: right;\">\n",
              "      <th></th>\n",
              "      <th>Recency</th>\n",
              "      <th>Frequency</th>\n",
              "      <th>Monetary_value</th>\n",
              "      <th>r_quartile</th>\n",
              "      <th>f_quartile</th>\n",
              "      <th>m_quartile</th>\n",
              "      <th>RFM_Score</th>\n",
              "    </tr>\n",
              "    <tr>\n",
              "      <th>CUSTOMERNAME</th>\n",
              "      <th></th>\n",
              "      <th></th>\n",
              "      <th></th>\n",
              "      <th></th>\n",
              "      <th></th>\n",
              "      <th></th>\n",
              "      <th></th>\n",
              "    </tr>\n",
              "  </thead>\n",
              "  <tbody>\n",
              "    <tr>\n",
              "      <th>AV Stores, Co.</th>\n",
              "      <td>195</td>\n",
              "      <td>51</td>\n",
              "      <td>157807.81</td>\n",
              "      <td>2</td>\n",
              "      <td>4</td>\n",
              "      <td>4</td>\n",
              "      <td>10</td>\n",
              "    </tr>\n",
              "    <tr>\n",
              "      <th>Alpha Cognac</th>\n",
              "      <td>64</td>\n",
              "      <td>20</td>\n",
              "      <td>70488.44</td>\n",
              "      <td>4</td>\n",
              "      <td>2</td>\n",
              "      <td>2</td>\n",
              "      <td>8</td>\n",
              "    </tr>\n",
              "    <tr>\n",
              "      <th>Amica Models &amp; Co.</th>\n",
              "      <td>264</td>\n",
              "      <td>26</td>\n",
              "      <td>94117.26</td>\n",
              "      <td>1</td>\n",
              "      <td>2</td>\n",
              "      <td>3</td>\n",
              "      <td>6</td>\n",
              "    </tr>\n",
              "    <tr>\n",
              "      <th>Anna's Decorations, Ltd</th>\n",
              "      <td>83</td>\n",
              "      <td>46</td>\n",
              "      <td>153996.13</td>\n",
              "      <td>3</td>\n",
              "      <td>4</td>\n",
              "      <td>4</td>\n",
              "      <td>11</td>\n",
              "    </tr>\n",
              "    <tr>\n",
              "      <th>Atelier graphique</th>\n",
              "      <td>187</td>\n",
              "      <td>7</td>\n",
              "      <td>24179.96</td>\n",
              "      <td>2</td>\n",
              "      <td>1</td>\n",
              "      <td>1</td>\n",
              "      <td>4</td>\n",
              "    </tr>\n",
              "  </tbody>\n",
              "</table>\n",
              "</div>"
            ],
            "text/plain": [
              "                         Recency  Frequency  ...  m_quartile RFM_Score\n",
              "CUSTOMERNAME                                 ...                      \n",
              "AV Stores, Co.               195         51  ...           4        10\n",
              "Alpha Cognac                  64         20  ...           2         8\n",
              "Amica Models & Co.           264         26  ...           3         6\n",
              "Anna's Decorations, Ltd       83         46  ...           4        11\n",
              "Atelier graphique            187          7  ...           1         4\n",
              "\n",
              "[5 rows x 7 columns]"
            ]
          },
          "metadata": {},
          "execution_count": 172
        }
      ]
    },
    {
      "cell_type": "code",
      "metadata": {
        "id": "827c2865",
        "colab": {
          "base_uri": "https://localhost:8080/",
          "height": 232
        },
        "outputId": "79d4f285-7337-48a6-d657-610a1c0cfc7c"
      },
      "source": [
        "#Assigning Value to Customers\n",
        "\n",
        "def rfm_value(df):\n",
        "    if np.bool(df['RFM_Score'] >= 10):\n",
        "        return 'High Value Customer'\n",
        "    elif np.bool((df['RFM_Score'] < 10) & (df['RFM_Score'] >= 6)):\n",
        "        return 'Mid Value Customer'\n",
        "    else:\n",
        "        return 'Low Value Customer'\n",
        "\n",
        "RFM_table['RFM_Value'] = RFM_table.apply(rfm_value, axis=1)\n",
        "\n",
        "RFM_table.head()"
      ],
      "id": "827c2865",
      "execution_count": 173,
      "outputs": [
        {
          "output_type": "execute_result",
          "data": {
            "text/html": [
              "<div>\n",
              "<style scoped>\n",
              "    .dataframe tbody tr th:only-of-type {\n",
              "        vertical-align: middle;\n",
              "    }\n",
              "\n",
              "    .dataframe tbody tr th {\n",
              "        vertical-align: top;\n",
              "    }\n",
              "\n",
              "    .dataframe thead th {\n",
              "        text-align: right;\n",
              "    }\n",
              "</style>\n",
              "<table border=\"1\" class=\"dataframe\">\n",
              "  <thead>\n",
              "    <tr style=\"text-align: right;\">\n",
              "      <th></th>\n",
              "      <th>Recency</th>\n",
              "      <th>Frequency</th>\n",
              "      <th>Monetary_value</th>\n",
              "      <th>r_quartile</th>\n",
              "      <th>f_quartile</th>\n",
              "      <th>m_quartile</th>\n",
              "      <th>RFM_Score</th>\n",
              "      <th>RFM_Value</th>\n",
              "    </tr>\n",
              "    <tr>\n",
              "      <th>CUSTOMERNAME</th>\n",
              "      <th></th>\n",
              "      <th></th>\n",
              "      <th></th>\n",
              "      <th></th>\n",
              "      <th></th>\n",
              "      <th></th>\n",
              "      <th></th>\n",
              "      <th></th>\n",
              "    </tr>\n",
              "  </thead>\n",
              "  <tbody>\n",
              "    <tr>\n",
              "      <th>AV Stores, Co.</th>\n",
              "      <td>195</td>\n",
              "      <td>51</td>\n",
              "      <td>157807.81</td>\n",
              "      <td>2</td>\n",
              "      <td>4</td>\n",
              "      <td>4</td>\n",
              "      <td>10</td>\n",
              "      <td>High Value Customer</td>\n",
              "    </tr>\n",
              "    <tr>\n",
              "      <th>Alpha Cognac</th>\n",
              "      <td>64</td>\n",
              "      <td>20</td>\n",
              "      <td>70488.44</td>\n",
              "      <td>4</td>\n",
              "      <td>2</td>\n",
              "      <td>2</td>\n",
              "      <td>8</td>\n",
              "      <td>Mid Value Customer</td>\n",
              "    </tr>\n",
              "    <tr>\n",
              "      <th>Amica Models &amp; Co.</th>\n",
              "      <td>264</td>\n",
              "      <td>26</td>\n",
              "      <td>94117.26</td>\n",
              "      <td>1</td>\n",
              "      <td>2</td>\n",
              "      <td>3</td>\n",
              "      <td>6</td>\n",
              "      <td>Mid Value Customer</td>\n",
              "    </tr>\n",
              "    <tr>\n",
              "      <th>Anna's Decorations, Ltd</th>\n",
              "      <td>83</td>\n",
              "      <td>46</td>\n",
              "      <td>153996.13</td>\n",
              "      <td>3</td>\n",
              "      <td>4</td>\n",
              "      <td>4</td>\n",
              "      <td>11</td>\n",
              "      <td>High Value Customer</td>\n",
              "    </tr>\n",
              "    <tr>\n",
              "      <th>Atelier graphique</th>\n",
              "      <td>187</td>\n",
              "      <td>7</td>\n",
              "      <td>24179.96</td>\n",
              "      <td>2</td>\n",
              "      <td>1</td>\n",
              "      <td>1</td>\n",
              "      <td>4</td>\n",
              "      <td>Low Value Customer</td>\n",
              "    </tr>\n",
              "  </tbody>\n",
              "</table>\n",
              "</div>"
            ],
            "text/plain": [
              "                         Recency  Frequency  ...  RFM_Score            RFM_Value\n",
              "CUSTOMERNAME                                 ...                                \n",
              "AV Stores, Co.               195         51  ...         10  High Value Customer\n",
              "Alpha Cognac                  64         20  ...          8   Mid Value Customer\n",
              "Amica Models & Co.           264         26  ...          6   Mid Value Customer\n",
              "Anna's Decorations, Ltd       83         46  ...         11  High Value Customer\n",
              "Atelier graphique            187          7  ...          4   Low Value Customer\n",
              "\n",
              "[5 rows x 8 columns]"
            ]
          },
          "metadata": {},
          "execution_count": 173
        }
      ]
    },
    {
      "cell_type": "markdown",
      "metadata": {
        "id": "dfafc313"
      },
      "source": [
        "The RFM Score sums up Recency, Frequency, Monetary Value;\n",
        " - Customers with RFM_Score >= 10 are high value customers\n",
        " - Low value customers are those with RFM_Score <= 5, the rest are mid-value customers."
      ],
      "id": "dfafc313"
    },
    {
      "cell_type": "code",
      "metadata": {
        "id": "f78b256a",
        "colab": {
          "base_uri": "https://localhost:8080/",
          "height": 500
        },
        "outputId": "dfe5f5e0-a90b-4729-c3ba-820957995d3d"
      },
      "source": [
        "## Frequency distribution of Customers\n",
        "customer_value = RFM_table['RFM_Value'].value_counts(normalize = True)\n",
        "plt.figure(figsize=(16,8))\n",
        "customer_value.plot(kind= 'pie', autopct='%1.1f%%')\n",
        "plt.title(\"Distribution of Customers\")\n",
        "plt.show"
      ],
      "id": "f78b256a",
      "execution_count": 174,
      "outputs": [
        {
          "output_type": "execute_result",
          "data": {
            "text/plain": [
              "<function matplotlib.pyplot.show>"
            ]
          },
          "metadata": {},
          "execution_count": 174
        },
        {
          "output_type": "display_data",
          "data": {
            "image/png": "[encoded data removed]",
            "text/plain": [
              "<Figure size 1152x576 with 1 Axes>"
            ]
          },
          "metadata": {}
        }
      ]
    },
    {
      "cell_type": "markdown",
      "metadata": {
        "id": "f1ed01de"
      },
      "source": [
        "Majority of customers are mid-value customers with low-value and high-value customers being more or less the same."
      ],
      "id": "f1ed01de"
    },
    {
      "cell_type": "markdown",
      "metadata": {
        "id": "e75619cd"
      },
      "source": [
        "RFM segmentation readily answers these questions for your business…\n",
        "\n",
        " - Who are my best customers(Whales)?\n",
        " - Who are the Lapsed customers (Customers with low recency but high Monetary value)?\n",
        " - Who are your loyal customers?\n",
        " - Which customers you must retain?\n",
        " - Who has the potential to be converted in more profitable customers?\n",
        " - New customers (Customers with high recency and low frequency)?\n",
        " - Which group of customers is most likely to respond to your current campaign?"
      ],
      "id": "e75619cd"
    },
    {
      "cell_type": "markdown",
      "metadata": {
        "id": "0eb04bbb"
      },
      "source": [
        "Best customers (Whales)\n",
        "\n",
        "- The biggest customers with high (4,4,4) values in all three factors that should be targeted with special promotions to keep them active.\n"
      ],
      "id": "0eb04bbb"
    },
    {
      "cell_type": "code",
      "metadata": {
        "id": "cd3e9ddd",
        "colab": {
          "base_uri": "https://localhost:8080/",
          "height": 355
        },
        "outputId": "c42d0fdc-ec9a-4d1e-f246-4d5e8d9a7e56"
      },
      "source": [
        "#Who are my best customers? (Whales)\n",
        "RFM_table[RFM_table['RFM_Score']==12].sort_values('Monetary_value', ascending=False)"
      ],
      "id": "cd3e9ddd",
      "execution_count": 175,
      "outputs": [
        {
          "output_type": "execute_result",
          "data": {
            "text/html": [
              "<div>\n",
              "<style scoped>\n",
              "    .dataframe tbody tr th:only-of-type {\n",
              "        vertical-align: middle;\n",
              "    }\n",
              "\n",
              "    .dataframe tbody tr th {\n",
              "        vertical-align: top;\n",
              "    }\n",
              "\n",
              "    .dataframe thead th {\n",
              "        text-align: right;\n",
              "    }\n",
              "</style>\n",
              "<table border=\"1\" class=\"dataframe\">\n",
              "  <thead>\n",
              "    <tr style=\"text-align: right;\">\n",
              "      <th></th>\n",
              "      <th>Recency</th>\n",
              "      <th>Frequency</th>\n",
              "      <th>Monetary_value</th>\n",
              "      <th>r_quartile</th>\n",
              "      <th>f_quartile</th>\n",
              "      <th>m_quartile</th>\n",
              "      <th>RFM_Score</th>\n",
              "      <th>RFM_Value</th>\n",
              "    </tr>\n",
              "    <tr>\n",
              "      <th>CUSTOMERNAME</th>\n",
              "      <th></th>\n",
              "      <th></th>\n",
              "      <th></th>\n",
              "      <th></th>\n",
              "      <th></th>\n",
              "      <th></th>\n",
              "      <th></th>\n",
              "      <th></th>\n",
              "    </tr>\n",
              "  </thead>\n",
              "  <tbody>\n",
              "    <tr>\n",
              "      <th>Euro Shopping Channel</th>\n",
              "      <td>0</td>\n",
              "      <td>259</td>\n",
              "      <td>912294.11</td>\n",
              "      <td>4</td>\n",
              "      <td>4</td>\n",
              "      <td>4</td>\n",
              "      <td>12</td>\n",
              "      <td>High Value Customer</td>\n",
              "    </tr>\n",
              "    <tr>\n",
              "      <th>Mini Gifts Distributors Ltd.</th>\n",
              "      <td>2</td>\n",
              "      <td>180</td>\n",
              "      <td>654858.06</td>\n",
              "      <td>4</td>\n",
              "      <td>4</td>\n",
              "      <td>4</td>\n",
              "      <td>12</td>\n",
              "      <td>High Value Customer</td>\n",
              "    </tr>\n",
              "    <tr>\n",
              "      <th>La Rochelle Gifts</th>\n",
              "      <td>0</td>\n",
              "      <td>53</td>\n",
              "      <td>180124.90</td>\n",
              "      <td>4</td>\n",
              "      <td>4</td>\n",
              "      <td>4</td>\n",
              "      <td>12</td>\n",
              "      <td>High Value Customer</td>\n",
              "    </tr>\n",
              "    <tr>\n",
              "      <th>The Sharp Gifts Warehouse</th>\n",
              "      <td>39</td>\n",
              "      <td>40</td>\n",
              "      <td>160010.27</td>\n",
              "      <td>4</td>\n",
              "      <td>4</td>\n",
              "      <td>4</td>\n",
              "      <td>12</td>\n",
              "      <td>High Value Customer</td>\n",
              "    </tr>\n",
              "    <tr>\n",
              "      <th>Souveniers And Things Co.</th>\n",
              "      <td>2</td>\n",
              "      <td>46</td>\n",
              "      <td>151570.98</td>\n",
              "      <td>4</td>\n",
              "      <td>4</td>\n",
              "      <td>4</td>\n",
              "      <td>12</td>\n",
              "      <td>High Value Customer</td>\n",
              "    </tr>\n",
              "    <tr>\n",
              "      <th>Salzburg Collectables</th>\n",
              "      <td>14</td>\n",
              "      <td>40</td>\n",
              "      <td>149798.63</td>\n",
              "      <td>4</td>\n",
              "      <td>4</td>\n",
              "      <td>4</td>\n",
              "      <td>12</td>\n",
              "      <td>High Value Customer</td>\n",
              "    </tr>\n",
              "    <tr>\n",
              "      <th>Danish Wholesale Imports</th>\n",
              "      <td>46</td>\n",
              "      <td>36</td>\n",
              "      <td>145041.60</td>\n",
              "      <td>4</td>\n",
              "      <td>4</td>\n",
              "      <td>4</td>\n",
              "      <td>12</td>\n",
              "      <td>High Value Customer</td>\n",
              "    </tr>\n",
              "    <tr>\n",
              "      <th>L'ordine Souveniers</th>\n",
              "      <td>21</td>\n",
              "      <td>39</td>\n",
              "      <td>142601.33</td>\n",
              "      <td>4</td>\n",
              "      <td>4</td>\n",
              "      <td>4</td>\n",
              "      <td>12</td>\n",
              "      <td>High Value Customer</td>\n",
              "    </tr>\n",
              "    <tr>\n",
              "      <th>Reims Collectables</th>\n",
              "      <td>62</td>\n",
              "      <td>41</td>\n",
              "      <td>135042.94</td>\n",
              "      <td>4</td>\n",
              "      <td>4</td>\n",
              "      <td>4</td>\n",
              "      <td>12</td>\n",
              "      <td>High Value Customer</td>\n",
              "    </tr>\n",
              "  </tbody>\n",
              "</table>\n",
              "</div>"
            ],
            "text/plain": [
              "                              Recency  ...            RFM_Value\n",
              "CUSTOMERNAME                           ...                     \n",
              "Euro Shopping Channel               0  ...  High Value Customer\n",
              "Mini Gifts Distributors Ltd.        2  ...  High Value Customer\n",
              "La Rochelle Gifts                   0  ...  High Value Customer\n",
              "The Sharp Gifts Warehouse          39  ...  High Value Customer\n",
              "Souveniers And Things Co.           2  ...  High Value Customer\n",
              "Salzburg Collectables              14  ...  High Value Customer\n",
              "Danish Wholesale Imports           46  ...  High Value Customer\n",
              "L'ordine Souveniers                21  ...  High Value Customer\n",
              "Reims Collectables                 62  ...  High Value Customer\n",
              "\n",
              "[9 rows x 8 columns]"
            ]
          },
          "metadata": {},
          "execution_count": 175
        }
      ]
    },
    {
      "cell_type": "markdown",
      "metadata": {
        "id": "e770863c"
      },
      "source": [
        "Lapsed customers. \n",
        "\n",
        "- Customers with low recency but high value (1,X,5) were once valuable customers but have since stopped. A targeted message may reactivate them.\n"
      ],
      "id": "e770863c"
    },
    {
      "cell_type": "code",
      "metadata": {
        "id": "6ee9c3f7",
        "colab": {
          "base_uri": "https://localhost:8080/",
          "height": 385
        },
        "outputId": "ced6b381-5c05-4c91-c042-42772f627d10"
      },
      "source": [
        "RFM_table[RFM_table['r_quartile'] >= 2 ].sort_values('m_quartile', ascending=False).head(10)"
      ],
      "id": "6ee9c3f7",
      "execution_count": 176,
      "outputs": [
        {
          "output_type": "execute_result",
          "data": {
            "text/html": [
              "<div>\n",
              "<style scoped>\n",
              "    .dataframe tbody tr th:only-of-type {\n",
              "        vertical-align: middle;\n",
              "    }\n",
              "\n",
              "    .dataframe tbody tr th {\n",
              "        vertical-align: top;\n",
              "    }\n",
              "\n",
              "    .dataframe thead th {\n",
              "        text-align: right;\n",
              "    }\n",
              "</style>\n",
              "<table border=\"1\" class=\"dataframe\">\n",
              "  <thead>\n",
              "    <tr style=\"text-align: right;\">\n",
              "      <th></th>\n",
              "      <th>Recency</th>\n",
              "      <th>Frequency</th>\n",
              "      <th>Monetary_value</th>\n",
              "      <th>r_quartile</th>\n",
              "      <th>f_quartile</th>\n",
              "      <th>m_quartile</th>\n",
              "      <th>RFM_Score</th>\n",
              "      <th>RFM_Value</th>\n",
              "    </tr>\n",
              "    <tr>\n",
              "      <th>CUSTOMERNAME</th>\n",
              "      <th></th>\n",
              "      <th></th>\n",
              "      <th></th>\n",
              "      <th></th>\n",
              "      <th></th>\n",
              "      <th></th>\n",
              "      <th></th>\n",
              "      <th></th>\n",
              "    </tr>\n",
              "  </thead>\n",
              "  <tbody>\n",
              "    <tr>\n",
              "      <th>AV Stores, Co.</th>\n",
              "      <td>195</td>\n",
              "      <td>51</td>\n",
              "      <td>157807.81</td>\n",
              "      <td>2</td>\n",
              "      <td>4</td>\n",
              "      <td>4</td>\n",
              "      <td>10</td>\n",
              "      <td>High Value Customer</td>\n",
              "    </tr>\n",
              "    <tr>\n",
              "      <th>Corrida Auto Replicas, Ltd</th>\n",
              "      <td>211</td>\n",
              "      <td>32</td>\n",
              "      <td>120615.28</td>\n",
              "      <td>2</td>\n",
              "      <td>3</td>\n",
              "      <td>4</td>\n",
              "      <td>9</td>\n",
              "      <td>Mid Value Customer</td>\n",
              "    </tr>\n",
              "    <tr>\n",
              "      <th>Saveley &amp; Henriot, Co.</th>\n",
              "      <td>455</td>\n",
              "      <td>41</td>\n",
              "      <td>142874.25</td>\n",
              "      <td>1</td>\n",
              "      <td>4</td>\n",
              "      <td>4</td>\n",
              "      <td>9</td>\n",
              "      <td>Mid Value Customer</td>\n",
              "    </tr>\n",
              "    <tr>\n",
              "      <th>Rovelli Gifts</th>\n",
              "      <td>200</td>\n",
              "      <td>48</td>\n",
              "      <td>137955.72</td>\n",
              "      <td>2</td>\n",
              "      <td>4</td>\n",
              "      <td>4</td>\n",
              "      <td>10</td>\n",
              "      <td>High Value Customer</td>\n",
              "    </tr>\n",
              "    <tr>\n",
              "      <th>Online Diecast Creations Co.</th>\n",
              "      <td>208</td>\n",
              "      <td>34</td>\n",
              "      <td>131685.30</td>\n",
              "      <td>2</td>\n",
              "      <td>4</td>\n",
              "      <td>4</td>\n",
              "      <td>10</td>\n",
              "      <td>High Value Customer</td>\n",
              "    </tr>\n",
              "    <tr>\n",
              "      <th>Land of Toys Inc.</th>\n",
              "      <td>197</td>\n",
              "      <td>49</td>\n",
              "      <td>164069.44</td>\n",
              "      <td>2</td>\n",
              "      <td>4</td>\n",
              "      <td>4</td>\n",
              "      <td>10</td>\n",
              "      <td>High Value Customer</td>\n",
              "    </tr>\n",
              "    <tr>\n",
              "      <th>Vitachrome Inc.</th>\n",
              "      <td>207</td>\n",
              "      <td>25</td>\n",
              "      <td>88041.26</td>\n",
              "      <td>2</td>\n",
              "      <td>2</td>\n",
              "      <td>3</td>\n",
              "      <td>7</td>\n",
              "      <td>Mid Value Customer</td>\n",
              "    </tr>\n",
              "    <tr>\n",
              "      <th>Vida Sport, Ltd</th>\n",
              "      <td>274</td>\n",
              "      <td>31</td>\n",
              "      <td>117713.56</td>\n",
              "      <td>1</td>\n",
              "      <td>3</td>\n",
              "      <td>3</td>\n",
              "      <td>7</td>\n",
              "      <td>Mid Value Customer</td>\n",
              "    </tr>\n",
              "    <tr>\n",
              "      <th>Toms Spezialitten, Ltd</th>\n",
              "      <td>227</td>\n",
              "      <td>26</td>\n",
              "      <td>100306.58</td>\n",
              "      <td>2</td>\n",
              "      <td>2</td>\n",
              "      <td>3</td>\n",
              "      <td>7</td>\n",
              "      <td>Mid Value Customer</td>\n",
              "    </tr>\n",
              "    <tr>\n",
              "      <th>Marta's Replicas Co.</th>\n",
              "      <td>230</td>\n",
              "      <td>27</td>\n",
              "      <td>103080.38</td>\n",
              "      <td>1</td>\n",
              "      <td>3</td>\n",
              "      <td>3</td>\n",
              "      <td>7</td>\n",
              "      <td>Mid Value Customer</td>\n",
              "    </tr>\n",
              "  </tbody>\n",
              "</table>\n",
              "</div>"
            ],
            "text/plain": [
              "                              Recency  ...            RFM_Value\n",
              "CUSTOMERNAME                           ...                     \n",
              "AV Stores, Co.                    195  ...  High Value Customer\n",
              "Corrida Auto Replicas, Ltd        211  ...   Mid Value Customer\n",
              "Saveley & Henriot, Co.            455  ...   Mid Value Customer\n",
              "Rovelli Gifts                     200  ...  High Value Customer\n",
              "Online Diecast Creations Co.      208  ...  High Value Customer\n",
              "Land of Toys Inc.                 197  ...  High Value Customer\n",
              "Vitachrome Inc.                   207  ...   Mid Value Customer\n",
              "Vida Sport, Ltd                   274  ...   Mid Value Customer\n",
              "Toms Spezialitten, Ltd            227  ...   Mid Value Customer\n",
              "Marta's Replicas Co.              230  ...   Mid Value Customer\n",
              "\n",
              "[10 rows x 8 columns]"
            ]
          },
          "metadata": {},
          "execution_count": 176
        }
      ]
    },
    {
      "cell_type": "markdown",
      "metadata": {
        "id": "vpTM9F4IG0Da"
      },
      "source": [
        "##### Lost customers\n",
        "- Customers who's recency, frequency as well as monetary values are low "
      ],
      "id": "vpTM9F4IG0Da"
    },
    {
      "cell_type": "code",
      "metadata": {
        "id": "fb1751a8",
        "colab": {
          "base_uri": "https://localhost:8080/",
          "height": 416
        },
        "outputId": "12636b46-4191-4378-9ac5-2532b4c59056"
      },
      "source": [
        "RFM_table[RFM_table['RFM_Score']==3].sort_values('Monetary_value', ascending=False)"
      ],
      "id": "fb1751a8",
      "execution_count": 177,
      "outputs": [
        {
          "output_type": "execute_result",
          "data": {
            "text/html": [
              "<div>\n",
              "<style scoped>\n",
              "    .dataframe tbody tr th:only-of-type {\n",
              "        vertical-align: middle;\n",
              "    }\n",
              "\n",
              "    .dataframe tbody tr th {\n",
              "        vertical-align: top;\n",
              "    }\n",
              "\n",
              "    .dataframe thead th {\n",
              "        text-align: right;\n",
              "    }\n",
              "</style>\n",
              "<table border=\"1\" class=\"dataframe\">\n",
              "  <thead>\n",
              "    <tr style=\"text-align: right;\">\n",
              "      <th></th>\n",
              "      <th>Recency</th>\n",
              "      <th>Frequency</th>\n",
              "      <th>Monetary_value</th>\n",
              "      <th>r_quartile</th>\n",
              "      <th>f_quartile</th>\n",
              "      <th>m_quartile</th>\n",
              "      <th>RFM_Score</th>\n",
              "      <th>RFM_Value</th>\n",
              "    </tr>\n",
              "    <tr>\n",
              "      <th>CUSTOMERNAME</th>\n",
              "      <th></th>\n",
              "      <th></th>\n",
              "      <th></th>\n",
              "      <th></th>\n",
              "      <th></th>\n",
              "      <th></th>\n",
              "      <th></th>\n",
              "      <th></th>\n",
              "    </tr>\n",
              "  </thead>\n",
              "  <tbody>\n",
              "    <tr>\n",
              "      <th>Auto Assoc. &amp; Cie.</th>\n",
              "      <td>232</td>\n",
              "      <td>18</td>\n",
              "      <td>64834.32</td>\n",
              "      <td>1</td>\n",
              "      <td>1</td>\n",
              "      <td>1</td>\n",
              "      <td>3</td>\n",
              "      <td>Low Value Customer</td>\n",
              "    </tr>\n",
              "    <tr>\n",
              "      <th>Clover Collections, Co.</th>\n",
              "      <td>257</td>\n",
              "      <td>16</td>\n",
              "      <td>57756.43</td>\n",
              "      <td>1</td>\n",
              "      <td>1</td>\n",
              "      <td>1</td>\n",
              "      <td>3</td>\n",
              "      <td>Low Value Customer</td>\n",
              "    </tr>\n",
              "    <tr>\n",
              "      <th>Online Mini Collectables</th>\n",
              "      <td>263</td>\n",
              "      <td>15</td>\n",
              "      <td>57197.96</td>\n",
              "      <td>1</td>\n",
              "      <td>1</td>\n",
              "      <td>1</td>\n",
              "      <td>3</td>\n",
              "      <td>Low Value Customer</td>\n",
              "    </tr>\n",
              "    <tr>\n",
              "      <th>Iberia Gift Imports, Corp.</th>\n",
              "      <td>237</td>\n",
              "      <td>15</td>\n",
              "      <td>54723.62</td>\n",
              "      <td>1</td>\n",
              "      <td>1</td>\n",
              "      <td>1</td>\n",
              "      <td>3</td>\n",
              "      <td>Low Value Customer</td>\n",
              "    </tr>\n",
              "    <tr>\n",
              "      <th>Signal Collectibles Ltd.</th>\n",
              "      <td>476</td>\n",
              "      <td>15</td>\n",
              "      <td>50218.51</td>\n",
              "      <td>1</td>\n",
              "      <td>1</td>\n",
              "      <td>1</td>\n",
              "      <td>3</td>\n",
              "      <td>Low Value Customer</td>\n",
              "    </tr>\n",
              "    <tr>\n",
              "      <th>CAF Imports</th>\n",
              "      <td>438</td>\n",
              "      <td>13</td>\n",
              "      <td>49642.05</td>\n",
              "      <td>1</td>\n",
              "      <td>1</td>\n",
              "      <td>1</td>\n",
              "      <td>3</td>\n",
              "      <td>Low Value Customer</td>\n",
              "    </tr>\n",
              "    <tr>\n",
              "      <th>Men 'R' US Retailers, Ltd.</th>\n",
              "      <td>508</td>\n",
              "      <td>14</td>\n",
              "      <td>48048.46</td>\n",
              "      <td>1</td>\n",
              "      <td>1</td>\n",
              "      <td>1</td>\n",
              "      <td>3</td>\n",
              "      <td>Low Value Customer</td>\n",
              "    </tr>\n",
              "    <tr>\n",
              "      <th>West Coast Collectables Co.</th>\n",
              "      <td>488</td>\n",
              "      <td>13</td>\n",
              "      <td>46084.64</td>\n",
              "      <td>1</td>\n",
              "      <td>1</td>\n",
              "      <td>1</td>\n",
              "      <td>3</td>\n",
              "      <td>Low Value Customer</td>\n",
              "    </tr>\n",
              "    <tr>\n",
              "      <th>Cambridge Collectables Co.</th>\n",
              "      <td>388</td>\n",
              "      <td>11</td>\n",
              "      <td>36163.62</td>\n",
              "      <td>1</td>\n",
              "      <td>1</td>\n",
              "      <td>1</td>\n",
              "      <td>3</td>\n",
              "      <td>Low Value Customer</td>\n",
              "    </tr>\n",
              "    <tr>\n",
              "      <th>Double Decker Gift Stores, Ltd</th>\n",
              "      <td>495</td>\n",
              "      <td>12</td>\n",
              "      <td>36019.04</td>\n",
              "      <td>1</td>\n",
              "      <td>1</td>\n",
              "      <td>1</td>\n",
              "      <td>3</td>\n",
              "      <td>Low Value Customer</td>\n",
              "    </tr>\n",
              "    <tr>\n",
              "      <th>Bavarian Collectables Imports, Co.</th>\n",
              "      <td>258</td>\n",
              "      <td>14</td>\n",
              "      <td>34993.92</td>\n",
              "      <td>1</td>\n",
              "      <td>1</td>\n",
              "      <td>1</td>\n",
              "      <td>3</td>\n",
              "      <td>Low Value Customer</td>\n",
              "    </tr>\n",
              "  </tbody>\n",
              "</table>\n",
              "</div>"
            ],
            "text/plain": [
              "                                    Recency  ...           RFM_Value\n",
              "CUSTOMERNAME                                 ...                    \n",
              "Auto Assoc. & Cie.                      232  ...  Low Value Customer\n",
              "Clover Collections, Co.                 257  ...  Low Value Customer\n",
              "Online Mini Collectables                263  ...  Low Value Customer\n",
              "Iberia Gift Imports, Corp.              237  ...  Low Value Customer\n",
              "Signal Collectibles Ltd.                476  ...  Low Value Customer\n",
              "CAF Imports                             438  ...  Low Value Customer\n",
              "Men 'R' US Retailers, Ltd.              508  ...  Low Value Customer\n",
              "West Coast Collectables Co.             488  ...  Low Value Customer\n",
              "Cambridge Collectables Co.              388  ...  Low Value Customer\n",
              "Double Decker Gift Stores, Ltd          495  ...  Low Value Customer\n",
              "Bavarian Collectables Imports, Co.      258  ...  Low Value Customer\n",
              "\n",
              "[11 rows x 8 columns]"
            ]
          },
          "metadata": {},
          "execution_count": 177
        }
      ]
    },
    {
      "cell_type": "markdown",
      "metadata": {
        "id": "2N80pppIISzK"
      },
      "source": [
        "Most loyal customers\n",
        "- Customers with high frequency value (Returning Customers)"
      ],
      "id": "2N80pppIISzK"
    },
    {
      "cell_type": "code",
      "metadata": {
        "id": "76cba389",
        "colab": {
          "base_uri": "https://localhost:8080/",
          "height": 784
        },
        "outputId": "a7f7cdcd-cde8-4e68-88bf-492ed1fa8fef"
      },
      "source": [
        "RFM_table[RFM_table['f_quartile'] == 4 ].sort_values('Monetary_value', ascending=False)"
      ],
      "id": "76cba389",
      "execution_count": 178,
      "outputs": [
        {
          "output_type": "execute_result",
          "data": {
            "text/html": [
              "<div>\n",
              "<style scoped>\n",
              "    .dataframe tbody tr th:only-of-type {\n",
              "        vertical-align: middle;\n",
              "    }\n",
              "\n",
              "    .dataframe tbody tr th {\n",
              "        vertical-align: top;\n",
              "    }\n",
              "\n",
              "    .dataframe thead th {\n",
              "        text-align: right;\n",
              "    }\n",
              "</style>\n",
              "<table border=\"1\" class=\"dataframe\">\n",
              "  <thead>\n",
              "    <tr style=\"text-align: right;\">\n",
              "      <th></th>\n",
              "      <th>Recency</th>\n",
              "      <th>Frequency</th>\n",
              "      <th>Monetary_value</th>\n",
              "      <th>r_quartile</th>\n",
              "      <th>f_quartile</th>\n",
              "      <th>m_quartile</th>\n",
              "      <th>RFM_Score</th>\n",
              "      <th>RFM_Value</th>\n",
              "    </tr>\n",
              "    <tr>\n",
              "      <th>CUSTOMERNAME</th>\n",
              "      <th></th>\n",
              "      <th></th>\n",
              "      <th></th>\n",
              "      <th></th>\n",
              "      <th></th>\n",
              "      <th></th>\n",
              "      <th></th>\n",
              "      <th></th>\n",
              "    </tr>\n",
              "  </thead>\n",
              "  <tbody>\n",
              "    <tr>\n",
              "      <th>Euro Shopping Channel</th>\n",
              "      <td>0</td>\n",
              "      <td>259</td>\n",
              "      <td>912294.11</td>\n",
              "      <td>4</td>\n",
              "      <td>4</td>\n",
              "      <td>4</td>\n",
              "      <td>12</td>\n",
              "      <td>High Value Customer</td>\n",
              "    </tr>\n",
              "    <tr>\n",
              "      <th>Mini Gifts Distributors Ltd.</th>\n",
              "      <td>2</td>\n",
              "      <td>180</td>\n",
              "      <td>654858.06</td>\n",
              "      <td>4</td>\n",
              "      <td>4</td>\n",
              "      <td>4</td>\n",
              "      <td>12</td>\n",
              "      <td>High Value Customer</td>\n",
              "    </tr>\n",
              "    <tr>\n",
              "      <th>Australian Collectors, Co.</th>\n",
              "      <td>183</td>\n",
              "      <td>55</td>\n",
              "      <td>200995.41</td>\n",
              "      <td>3</td>\n",
              "      <td>4</td>\n",
              "      <td>4</td>\n",
              "      <td>11</td>\n",
              "      <td>High Value Customer</td>\n",
              "    </tr>\n",
              "    <tr>\n",
              "      <th>Muscle Machine Inc</th>\n",
              "      <td>181</td>\n",
              "      <td>48</td>\n",
              "      <td>197736.94</td>\n",
              "      <td>3</td>\n",
              "      <td>4</td>\n",
              "      <td>4</td>\n",
              "      <td>11</td>\n",
              "      <td>High Value Customer</td>\n",
              "    </tr>\n",
              "    <tr>\n",
              "      <th>La Rochelle Gifts</th>\n",
              "      <td>0</td>\n",
              "      <td>53</td>\n",
              "      <td>180124.90</td>\n",
              "      <td>4</td>\n",
              "      <td>4</td>\n",
              "      <td>4</td>\n",
              "      <td>12</td>\n",
              "      <td>High Value Customer</td>\n",
              "    </tr>\n",
              "    <tr>\n",
              "      <th>Dragon Souveniers, Ltd.</th>\n",
              "      <td>90</td>\n",
              "      <td>43</td>\n",
              "      <td>172989.68</td>\n",
              "      <td>3</td>\n",
              "      <td>4</td>\n",
              "      <td>4</td>\n",
              "      <td>11</td>\n",
              "      <td>High Value Customer</td>\n",
              "    </tr>\n",
              "    <tr>\n",
              "      <th>Land of Toys Inc.</th>\n",
              "      <td>197</td>\n",
              "      <td>49</td>\n",
              "      <td>164069.44</td>\n",
              "      <td>2</td>\n",
              "      <td>4</td>\n",
              "      <td>4</td>\n",
              "      <td>10</td>\n",
              "      <td>High Value Customer</td>\n",
              "    </tr>\n",
              "    <tr>\n",
              "      <th>The Sharp Gifts Warehouse</th>\n",
              "      <td>39</td>\n",
              "      <td>40</td>\n",
              "      <td>160010.27</td>\n",
              "      <td>4</td>\n",
              "      <td>4</td>\n",
              "      <td>4</td>\n",
              "      <td>12</td>\n",
              "      <td>High Value Customer</td>\n",
              "    </tr>\n",
              "    <tr>\n",
              "      <th>AV Stores, Co.</th>\n",
              "      <td>195</td>\n",
              "      <td>51</td>\n",
              "      <td>157807.81</td>\n",
              "      <td>2</td>\n",
              "      <td>4</td>\n",
              "      <td>4</td>\n",
              "      <td>10</td>\n",
              "      <td>High Value Customer</td>\n",
              "    </tr>\n",
              "    <tr>\n",
              "      <th>Anna's Decorations, Ltd</th>\n",
              "      <td>83</td>\n",
              "      <td>46</td>\n",
              "      <td>153996.13</td>\n",
              "      <td>3</td>\n",
              "      <td>4</td>\n",
              "      <td>4</td>\n",
              "      <td>11</td>\n",
              "      <td>High Value Customer</td>\n",
              "    </tr>\n",
              "    <tr>\n",
              "      <th>Souveniers And Things Co.</th>\n",
              "      <td>2</td>\n",
              "      <td>46</td>\n",
              "      <td>151570.98</td>\n",
              "      <td>4</td>\n",
              "      <td>4</td>\n",
              "      <td>4</td>\n",
              "      <td>12</td>\n",
              "      <td>High Value Customer</td>\n",
              "    </tr>\n",
              "    <tr>\n",
              "      <th>Corporate Gift Ideas Co.</th>\n",
              "      <td>97</td>\n",
              "      <td>41</td>\n",
              "      <td>149882.50</td>\n",
              "      <td>3</td>\n",
              "      <td>4</td>\n",
              "      <td>4</td>\n",
              "      <td>11</td>\n",
              "      <td>High Value Customer</td>\n",
              "    </tr>\n",
              "    <tr>\n",
              "      <th>Salzburg Collectables</th>\n",
              "      <td>14</td>\n",
              "      <td>40</td>\n",
              "      <td>149798.63</td>\n",
              "      <td>4</td>\n",
              "      <td>4</td>\n",
              "      <td>4</td>\n",
              "      <td>12</td>\n",
              "      <td>High Value Customer</td>\n",
              "    </tr>\n",
              "    <tr>\n",
              "      <th>Danish Wholesale Imports</th>\n",
              "      <td>46</td>\n",
              "      <td>36</td>\n",
              "      <td>145041.60</td>\n",
              "      <td>4</td>\n",
              "      <td>4</td>\n",
              "      <td>4</td>\n",
              "      <td>12</td>\n",
              "      <td>High Value Customer</td>\n",
              "    </tr>\n",
              "    <tr>\n",
              "      <th>Saveley &amp; Henriot, Co.</th>\n",
              "      <td>455</td>\n",
              "      <td>41</td>\n",
              "      <td>142874.25</td>\n",
              "      <td>1</td>\n",
              "      <td>4</td>\n",
              "      <td>4</td>\n",
              "      <td>9</td>\n",
              "      <td>Mid Value Customer</td>\n",
              "    </tr>\n",
              "    <tr>\n",
              "      <th>L'ordine Souveniers</th>\n",
              "      <td>21</td>\n",
              "      <td>39</td>\n",
              "      <td>142601.33</td>\n",
              "      <td>4</td>\n",
              "      <td>4</td>\n",
              "      <td>4</td>\n",
              "      <td>12</td>\n",
              "      <td>High Value Customer</td>\n",
              "    </tr>\n",
              "    <tr>\n",
              "      <th>Rovelli Gifts</th>\n",
              "      <td>200</td>\n",
              "      <td>48</td>\n",
              "      <td>137955.72</td>\n",
              "      <td>2</td>\n",
              "      <td>4</td>\n",
              "      <td>4</td>\n",
              "      <td>10</td>\n",
              "      <td>High Value Customer</td>\n",
              "    </tr>\n",
              "    <tr>\n",
              "      <th>Reims Collectables</th>\n",
              "      <td>62</td>\n",
              "      <td>41</td>\n",
              "      <td>135042.94</td>\n",
              "      <td>4</td>\n",
              "      <td>4</td>\n",
              "      <td>4</td>\n",
              "      <td>12</td>\n",
              "      <td>High Value Customer</td>\n",
              "    </tr>\n",
              "    <tr>\n",
              "      <th>Scandinavian Gift Ideas</th>\n",
              "      <td>89</td>\n",
              "      <td>38</td>\n",
              "      <td>134259.33</td>\n",
              "      <td>3</td>\n",
              "      <td>4</td>\n",
              "      <td>4</td>\n",
              "      <td>11</td>\n",
              "      <td>High Value Customer</td>\n",
              "    </tr>\n",
              "    <tr>\n",
              "      <th>Online Diecast Creations Co.</th>\n",
              "      <td>208</td>\n",
              "      <td>34</td>\n",
              "      <td>131685.30</td>\n",
              "      <td>2</td>\n",
              "      <td>4</td>\n",
              "      <td>4</td>\n",
              "      <td>10</td>\n",
              "      <td>High Value Customer</td>\n",
              "    </tr>\n",
              "    <tr>\n",
              "      <th>Technics Stores Inc.</th>\n",
              "      <td>146</td>\n",
              "      <td>34</td>\n",
              "      <td>120783.07</td>\n",
              "      <td>3</td>\n",
              "      <td>4</td>\n",
              "      <td>4</td>\n",
              "      <td>11</td>\n",
              "      <td>High Value Customer</td>\n",
              "    </tr>\n",
              "    <tr>\n",
              "      <th>Handji Gifts&amp; Co</th>\n",
              "      <td>38</td>\n",
              "      <td>36</td>\n",
              "      <td>115498.73</td>\n",
              "      <td>4</td>\n",
              "      <td>4</td>\n",
              "      <td>3</td>\n",
              "      <td>11</td>\n",
              "      <td>High Value Customer</td>\n",
              "    </tr>\n",
              "    <tr>\n",
              "      <th>Mini Creations Ltd.</th>\n",
              "      <td>144</td>\n",
              "      <td>35</td>\n",
              "      <td>108951.13</td>\n",
              "      <td>3</td>\n",
              "      <td>4</td>\n",
              "      <td>3</td>\n",
              "      <td>10</td>\n",
              "      <td>High Value Customer</td>\n",
              "    </tr>\n",
              "  </tbody>\n",
              "</table>\n",
              "</div>"
            ],
            "text/plain": [
              "                              Recency  ...            RFM_Value\n",
              "CUSTOMERNAME                           ...                     \n",
              "Euro Shopping Channel               0  ...  High Value Customer\n",
              "Mini Gifts Distributors Ltd.        2  ...  High Value Customer\n",
              "Australian Collectors, Co.        183  ...  High Value Customer\n",
              "Muscle Machine Inc                181  ...  High Value Customer\n",
              "La Rochelle Gifts                   0  ...  High Value Customer\n",
              "Dragon Souveniers, Ltd.            90  ...  High Value Customer\n",
              "Land of Toys Inc.                 197  ...  High Value Customer\n",
              "The Sharp Gifts Warehouse          39  ...  High Value Customer\n",
              "AV Stores, Co.                    195  ...  High Value Customer\n",
              "Anna's Decorations, Ltd            83  ...  High Value Customer\n",
              "Souveniers And Things Co.           2  ...  High Value Customer\n",
              "Corporate Gift Ideas Co.           97  ...  High Value Customer\n",
              "Salzburg Collectables              14  ...  High Value Customer\n",
              "Danish Wholesale Imports           46  ...  High Value Customer\n",
              "Saveley & Henriot, Co.            455  ...   Mid Value Customer\n",
              "L'ordine Souveniers                21  ...  High Value Customer\n",
              "Rovelli Gifts                     200  ...  High Value Customer\n",
              "Reims Collectables                 62  ...  High Value Customer\n",
              "Scandinavian Gift Ideas            89  ...  High Value Customer\n",
              "Online Diecast Creations Co.      208  ...  High Value Customer\n",
              "Technics Stores Inc.              146  ...  High Value Customer\n",
              "Handji Gifts& Co                   38  ...  High Value Customer\n",
              "Mini Creations Ltd.               144  ...  High Value Customer\n",
              "\n",
              "[23 rows x 8 columns]"
            ]
          },
          "metadata": {},
          "execution_count": 178
        }
      ]
    }
  ]
}